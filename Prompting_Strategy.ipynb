{
  "cells": [
    {
      "cell_type": "markdown",
      "metadata": {
        "id": "view-in-github",
        "colab_type": "text"
      },
      "source": [
        "<a href=\"https://colab.research.google.com/github/selvanathans/GoogleNexusWebsiteMenu/blob/master/Prompting_Strategy.ipynb\" target=\"_parent\"><img src=\"https://colab.research.google.com/assets/colab-badge.svg\" alt=\"Open In Colab\"/></a>"
      ]
    },
    {
      "cell_type": "markdown",
      "metadata": {
        "id": "ub0NTGA6uYuV"
      },
      "source": [
        "## Setup"
      ]
    },
    {
      "cell_type": "code",
      "execution_count": 1,
      "metadata": {
        "id": "55xgFPWJubs3"
      },
      "outputs": [],
      "source": [
        "# Setup the OpenAI client and create the sample review\n",
        "\n",
        "import os\n",
        "from openai import OpenAI\n",
        "from google.colab import userdata\n",
        "\n",
        "# Make sure you have set the OPENAI_API_KEY environment variable\n",
        "# For Colab, you can use the \"🔑\" icon on the left panel to add your API key as a secret.\n",
        "# Name the secret OPENAI_API_KEY.\n",
        "# If you are running this outside of Colab, you can set it as an environment variable\n",
        "# in your terminal: export OPENAI_API_KEY='your-api-key'\n",
        "# Or you can uncomment the line below and replace 'your-api-key' with your actual key:\n",
        "# os.environ['OPENAI_API_KEY'] = 'your-api-key'\n",
        "\n",
        "client = OpenAI(\n",
        "    # This is the default and can be omitted\n",
        "    base_url=\"https://openrouter.ai/api/v1\",\n",
        "    api_key= userdata.get('API_KEY'),\n",
        ")\n",
        "\n",
        "model = \"openai/gpt-4o-mini\" #\"gpt-4.1-mini-2025-04-14\"\n",
        "\n",
        "def generate_response(prompt, model=model, max_tokens=150):\n",
        "    \"\"\"\n",
        "    Generates a response from the OpenAI API.\n",
        "\n",
        "    Args:\n",
        "        prompt: The input prompt for the model.\n",
        "        model: The OpenAI model to use (default: \"gpt-3.5-turbo\").\n",
        "        max_tokens: The maximum number of tokens in the generated response.\n",
        "\n",
        "    Returns:\n",
        "        The text of the generated response.\n",
        "    \"\"\"\n",
        "    try:\n",
        "        response = client.chat.completions.create(\n",
        "            model=model,\n",
        "            messages=[\n",
        "                {\"role\": \"user\", \"content\": prompt}\n",
        "            ],\n",
        "            temperature=0.7,\n",
        "            max_tokens=5000 # You can adjust the temperature\n",
        "        )\n",
        "        return response.choices[0].message.content.strip()\n",
        "    except Exception as e:\n",
        "        return f\"Error generating response: {e}\"\n",
        "\n",
        "\n",
        "\n",
        "# Product Reviews for Examples - Vacuum Cleaner Reviews with Mixed Emotions\n",
        "REVIEWS = [\n",
        "    # Enthusiastic positive reviews\n",
        "    \"This vacuum cleaner is absolutely AMAZING! 🎉 I'm so thrilled with my purchase! It's incredibly lightweight, super powerful, and the battery lasts forever. I cleaned my entire 3-bedroom house on a single charge and still had juice left! The attachments are genius - they make reaching tight spaces a breeze. My floors have never been cleaner. I'm telling all my friends about this! HIGHLY RECOMMENDED!\",\n",
        "\n",
        "    \"I'm genuinely impressed with this vacuum cleaner. After years of struggling with heavy, clunky vacuums, this one is a breath of fresh air. It's so easy to use and maneuver around furniture. The suction power is incredible - it picked up pet hair that my old vacuum couldn't even touch. The battery life is impressive too. Worth every penny!\",\n",
        "\n",
        "    \"OMG, this vacuum is a game-changer! 😍 I was skeptical at first, but wow, it exceeded all my expectations. It's so quiet compared to my old one, and the cordless design is liberating. I can finally vacuum without tripping over cords! The attachments are perfect for my car and stairs. I'm in love with this product!\",\n",
        "\n",
        "    # Frustrated negative reviews\n",
        "    \"I'm extremely frustrated with this vacuum cleaner. It's a complete waste of money! The battery dies after just 10 minutes of use - I can't even finish one room! It's also incredibly heavy and awkward to maneuver. The suction is pathetic and it struggles with basic dirt. I'm returning this immediately. Terrible product!\",\n",
        "\n",
        "    \"This vacuum cleaner is a huge disappointment. I had such high hopes based on the reviews, but it's been nothing but trouble. The attachments keep falling off, the battery life is terrible, and it's so loud it scares my pets. I'm really upset about this purchase. Would not recommend to anyone.\",\n",
        "\n",
        "    \"I'm absolutely furious about this vacuum! It's been nothing but problems since day one. The motor makes a horrible grinding noise, the dustbin is tiny and fills up immediately, and the battery is completely unreliable. I feel completely ripped off. This is the worst vacuum I've ever owned!\",\n",
        "\n",
        "    # Analytical neutral reviews\n",
        "    \"This vacuum cleaner has both good and bad points. On the positive side, it's relatively lightweight and the attachments work well for corners. However, the battery life is average - it lasts about 30 minutes, which is enough for a small apartment but not a large house. The suction power is decent for daily cleaning but struggles with deep-pile carpets. It's an okay product for the price, but there might be better options available.\",\n",
        "\n",
        "    \"I have mixed feelings about this vacuum. It does what it's supposed to do, but I'm not blown away. The design is nice and it's easy to store, but the battery life could be better. It works fine for quick cleanups but struggles with heavy-duty cleaning. I'm not sure if I'd buy it again, but it's not terrible either.\",\n",
        "\n",
        "    \"This vacuum is... fine. It gets the job done but nothing more. The build quality seems decent, and it's reasonably priced. However, I've noticed it's not as powerful as I expected, and the dustbin fills up quickly. It's an average product - not great, not terrible. I'll probably keep it since it works, but I'm not excited about it.\",\n",
        "\n",
        "    # Emotional reviews (nostalgic, hopeful, regretful)\n",
        "    \"This vacuum reminds me of the one my grandmother used to have - simple, reliable, and effective. It's not fancy, but it does exactly what you need it to do. I appreciate the straightforward design and the fact that it doesn't have unnecessary bells and whistles. Sometimes the old ways are the best ways.\",\n",
        "\n",
        "    \"I'm hopeful this vacuum will work out better than my last one. So far, it seems to be doing okay, but I'm still in the trial period. The battery life seems decent, and it's definitely lighter than what I had before. Fingers crossed it holds up over time!\",\n",
        "\n",
        "    \"I really regret buying this vacuum cleaner. I should have done more research before purchasing. It's not terrible, but it's definitely not worth the price I paid. I wish I had gone with a different brand or model. Live and learn, I guess.\",\n",
        "\n",
        "    # Technical reviews\n",
        "    \"As someone who's used many vacuums professionally, this one is quite impressive from a technical standpoint. The motor is well-designed and efficient, the filtration system is excellent, and the ergonomics are well thought out. However, the battery management system could be improved, and the noise level is higher than expected. Overall, it's a solid performer with room for improvement.\",\n",
        "\n",
        "    \"I've been testing this vacuum for a month now, and I have to say, it's exceeded my expectations in most areas. The suction power is consistent, the battery life is reliable, and the build quality feels premium. The only issue I've encountered is that the dustbin can be tricky to empty sometimes. But overall, I'm very satisfied with this purchase.\",\n",
        "\n",
        "    # Short and concise reviews\n",
        "    \"Love it! Best vacuum I've ever owned.\",\n",
        "\n",
        "    \"Waste of money. Don't buy this.\",\n",
        "\n",
        "    \"It's okay, nothing special.\",\n",
        "\n",
        "    # Detailed experience reviews\n",
        "    \"After using this vacuum for 6 months, I can confidently say it's been a mixed experience. The initial excitement wore off when I realized the battery life wasn't as advertised. However, the suction power is genuinely impressive, and it handles pet hair better than any vacuum I've used. The attachments are well-designed, though the dustbin could be larger. Overall, it's a good product with some limitations.\",\n",
        "\n",
        "    \"I bought this vacuum during a Black Friday sale and honestly, I'm not sure if it was worth it even at the discounted price. The first month was great - it worked perfectly and I was happy with my purchase. But then the battery started degrading quickly, and now it barely lasts 15 minutes. Customer service was unhelpful too. I'm disappointed but I'll make it work until I can afford a replacement.\"\n",
        "]\n",
        "\n",
        "\n",
        "# For consistency with existing examples\n",
        "REVIEWS_TEXT = \"\\n\\n\".join([f\"Review {i+1}:\\n{review}\" for i, review in enumerate(REVIEWS)])"
      ]
    },
    {
      "cell_type": "markdown",
      "metadata": {
        "id": "sn-VzZwPH6_-"
      },
      "source": [
        "## Zero-Shot Prompting\n"
      ]
    },
    {
      "cell_type": "code",
      "execution_count": 2,
      "metadata": {
        "id": "73b82b63",
        "outputId": "fd332dd9-5439-4dcf-9dec-504799311a9d",
        "colab": {
          "base_uri": "https://localhost:8080/"
        }
      },
      "outputs": [
        {
          "output_type": "stream",
          "name": "stdout",
          "text": [
            "Zero-Shot Response :\n",
            "The reviews for the vacuum cleaner are highly polarized, showcasing a range of emotions and varying experiences. \n",
            "\n",
            "Positive reviews celebrate the vacuum's lightweight design, powerful suction, and impressive battery life, with many users expressing enthusiasm and recommending it to others. They highlight features like effective attachments for tight spaces and ease of maneuverability, noting significant improvements in cleanliness compared to previous vacuums.\n",
            "\n",
            "Conversely, negative reviews are filled with frustration and disappointment. Many users report issues such as short battery life, poor suction power, and problems with attachments. Some feel cheated and express regret over their purchase, stating that the product does not deliver on its promises. \n",
            "\n",
            "Overall, while some customers find the vacuum to be a game-changer and highly recommend it, others consider it a waste of money and advise against buying it. The mixed feedback suggests that while the vacuum has potential, its quality may vary significantly, leading to an uncertain recommendation overall.\n",
            "--------------------------------------------------\n"
          ]
        }
      ],
      "source": [
        "# Real-world example: Summarize product reviews with zero-shot prompting.\n",
        "def test_zero_shot(review):\n",
        "    prompt = f\"\"\"\n",
        "Summarize the following product review:\n",
        "\n",
        "Review: {review}\n",
        "\n",
        "Ensure it covers emotions, quality, whether to recomend.\n",
        "\"\"\"\n",
        "    response = generate_response(prompt)\n",
        "    print(f\"Zero-Shot Response :\")\n",
        "    print(response)\n",
        "    print(\"-\" * 50)\n",
        "\n",
        "test_zero_shot(REVIEWS_TEXT)"
      ]
    },
    {
      "cell_type": "markdown",
      "metadata": {
        "id": "f1395a52"
      },
      "source": [
        "## Few-Shot Prompting"
      ]
    },
    {
      "cell_type": "code",
      "execution_count": 3,
      "metadata": {
        "id": "810fc3ef",
        "outputId": "b64484cc-78c6-487d-dbc5-89b7f4e6fed6",
        "colab": {
          "base_uri": "https://localhost:8080/"
        }
      },
      "outputs": [
        {
          "output_type": "stream",
          "name": "stdout",
          "text": [
            "Few-Shot Response:\n",
            "The vacuum cleaner reviews present a wide range of opinions, highlighting both positive and negative experiences. \n",
            "\n",
            "**Positive Aspects:**\n",
            "- Many users praise the vacuum for being lightweight, powerful, and effective at picking up dirt and pet hair.\n",
            "- Some reviewers appreciate the cordless design, quiet operation, and versatile attachments for cleaning various surfaces.\n",
            "- A few customers report satisfaction with the build quality and suction performance over time.\n",
            "\n",
            "**Negative Aspects:**\n",
            "- Several users express frustration with poor battery life, with some models dying quickly or not lasting through a full cleaning session.\n",
            "- Complaints about heavy weight, difficulty maneuvering, and inadequate suction power for deeper cleaning tasks are common.\n",
            "- Issues with the dustbin filling up quickly, attachments falling off, and customer service dissatisfaction are noted as well.\n",
            "\n",
            "Overall, while some users find the vacuum cleaner to be a great value and effective for their needs, others feel disappointed and regretful about their purchase, indicating a mixed experience across different reviews.\n",
            "--------------------------------------------------\n"
          ]
        }
      ],
      "source": [
        "# Real-world example: Summarize product reviews with few-shot examples.\n",
        "def test_few_shot(review):\n",
        "    few_shot_prompt = f\"\"\"\n",
        "Summarize the following product reviews:\n",
        "\n",
        "Review: This phone is terrible. The battery dies in an hour and the camera is blurry.\n",
        "Summary: Poor battery life and camera quality.\n",
        "\n",
        "Review: I love this laptop! It's fast, lightweight, and the screen is stunning.\n",
        "Summary: Fast, lightweight, and excellent display.\n",
        "\n",
        "Review: {review}\n",
        "Summary:\n",
        "\"\"\"\n",
        "    response = generate_response(few_shot_prompt)\n",
        "    print(f\"Few-Shot Response:\")\n",
        "    print(response)\n",
        "    print(\"-\" * 50)\n",
        "\n",
        "# Test with all three review types\n",
        "test_few_shot(REVIEWS_TEXT)"
      ]
    },
    {
      "cell_type": "markdown",
      "metadata": {
        "id": "tYqFe1-ptNT5"
      },
      "source": [
        "## Self Reflexion"
      ]
    },
    {
      "cell_type": "markdown",
      "source": [
        "#### How it works:\n",
        "1. Generates the Initial summary\n",
        "2. Performs the self review\n",
        "3. Using the self review feedback, it refines the generated summary by addressing feedback."
      ],
      "metadata": {
        "id": "vFiJg47rzQwC"
      }
    },
    {
      "cell_type": "code",
      "source": [
        "# Real-world example: Summarize a product review using Reflexion (using positive review for complexity).\n",
        "\n",
        "# Initial prompt\n",
        "initial_review_prompt = f\"Summarize the following product review:\\n\\n{REVIEWS_TEXT}\"\n",
        "\n",
        "initial_review_response = generate_response(initial_review_prompt)\n",
        "print(\"Initial Reflexion Response:\")\n",
        "print(initial_review_response)\n",
        "\n",
        "# Reflection prompt to improve the summary\n",
        "reflection_review_prompt = f\"\"\"\n",
        "Based on the following product review and the initial summary:\n",
        "\n",
        "Review: {REVIEWS_TEXT}\n",
        "\n",
        "Initial Summary: {initial_review_response}\n",
        "\n",
        "Critique the initial summary. Does it capture all the key positive aspects mentioned in the review (lightweight, powerful, long battery life, useful attachments, highly recommended)? Suggest improvements to make the summary more comprehensive and accurate.\n",
        "\"\"\"\n",
        "\n",
        "reflection_on_review = generate_response(reflection_review_prompt)\n",
        "print(\"\\nReflection on Initial Response:\")\n",
        "print(reflection_on_review)\n",
        "\n",
        "# Refined prompt incorporating the reflection\n",
        "refined_review_prompt = f\"\"\"\n",
        "Based on the following product review and the critique of the initial summary, provide a refined and comprehensive summary:\n",
        "\n",
        "Review: {REVIEWS_TEXT}\n",
        "\n",
        "Critique: {reflection_on_review}\n",
        "\n",
        "Refined Summary:\n",
        "\"\"\"\n",
        "\n",
        "refined_review_response = generate_response(refined_review_prompt)\n",
        "print(\"\\nRefined Reflexion Response:\")\n",
        "print(refined_review_response)"
      ],
      "metadata": {
        "id": "l_Ba589oSQmE",
        "outputId": "dd7fbf65-a8b3-4b62-8945-df72bc3a1b2b",
        "colab": {
          "base_uri": "https://localhost:8080/"
        }
      },
      "execution_count": 4,
      "outputs": [
        {
          "output_type": "stream",
          "name": "stdout",
          "text": [
            "Initial Reflexion Response:\n",
            "The reviews for the vacuum cleaner reflect a wide range of experiences. Many users praise its lightweight design, powerful suction, and impressive battery life, with some reporting successful cleaning of large spaces on a single charge. Attachments for tight spaces and different surfaces also receive positive mentions. However, several customers express frustration with battery issues, including short lifespan and reliability, as well as struggles with suction power and overall build quality. A few reviews highlight problems with noise and the dustbin size. Overall, while some users are highly satisfied and recommend the vacuum, others find it disappointing or problematic, leading to mixed feelings about its performance and value for money.\n",
            "\n",
            "Reflection on Initial Response:\n",
            "The initial summary does a good job of capturing the overall sentiment of the reviews, but there are areas where it could be more comprehensive and specific. Here are some critiques and suggested improvements:\n",
            "\n",
            "### Critiques:\n",
            "1. **Positive Aspects**: While the summary mentions positive attributes such as lightweight design, powerful suction, and battery life, it could emphasize the enthusiasm expressed in multiple reviews about these features. Phrases like \"HIGHLY RECOMMENDED!\" and \"game-changer\" reflect a stronger level of satisfaction that should be highlighted.\n",
            "\n",
            "2. **Negative Aspects**: The summary addresses battery issues and suction power but should also mention specific complaints about the dustbin size, noise levels, and the overall build quality. Some reviews express significant frustration with these aspects, which may be crucial for potential buyers.\n",
            "\n",
            "3. **Mixed Experiences**: While the summary notes mixed feelings, it could specify the nature of the mixed experiences more clearly. For example, some users had positive experiences initially that later turned negative, which could indicate a trend that prospective buyers should be aware of.\n",
            "\n",
            "4. **User Types**: The summary could mention that some users include professionals who have higher standards and expectations, which might provide context for both positive and negative reviews.\n",
            "\n",
            "### Suggested Improvements:\n",
            "Here’s a revised version of the summary that incorporates these suggestions:\n",
            "\n",
            "---\n",
            "\n",
            "The reviews for the vacuum cleaner showcase a diverse range of experiences. Many users enthusiastically praise its lightweight design, powerful suction, and impressive battery life, with several reports of successfully cleaning large spaces on a single charge. The vacuum's attachments for reaching tight spaces and cleaning different surfaces are frequently highlighted as innovative and effective. Some reviewers express strong satisfaction, with phrases like \"HIGHLY RECOMMENDED!\" and descriptions of the product as a \"game changer.\"\n",
            "\n",
            "However, there are notable frustrations among users regarding battery performance, with several complaints about short battery life and reliability. Issues with suction power on certain surfaces and overall build quality are also mentioned. Additionally, problems with noise levels, dustbin size, and attachment usability contribute to a mixed reception. Some users, particularly those with professional cleaning backgrounds, note that while the vacuum has excellent attributes, improvements in battery management and noise reduction are needed. Overall, while many customers are highly satisfied with the vacuum and recommend it, others express disappointment or frustration, resulting in a varied perspective on its performance and value for money.\n",
            "\n",
            "--- \n",
            "\n",
            "This revised summary highlights both the enthusiasm from satisfied users and the serious concerns raised by dissatisfied customers, providing a more balanced and comprehensive overview of the product.\n",
            "\n",
            "Refined Reflexion Response:\n",
            "The reviews for the vacuum cleaner present a wide spectrum of experiences, highlighting both strong praise and significant criticisms. \n",
            "\n",
            "On the positive side, many users are thrilled with the vacuum's lightweight design, powerful suction, and impressive battery life, often noting that they can clean large areas, such as a 3-bedroom house, on a single charge. The vacuum's attachments are frequently commended for their effectiveness in reaching tight spaces and cleaning various surfaces, with some reviewers calling it a \"game changer\" and stating it is \"HIGHLY RECOMMENDED!\"\n",
            "\n",
            "Conversely, there are notable frustrations regarding battery performance, with several users reporting short battery life and unreliability. Complaints about suction power on deeper carpets and overall build quality are also prevalent. Issues such as excessive noise, a small dustbin that fills quickly, and problems with attachments falling off contribute to a mixed reception. Some users, particularly those with professional cleaning experience, feel that while the vacuum has impressive features, it requires improvements in battery management and noise reduction.\n",
            "\n",
            "Overall, while many customers express high satisfaction and recommend the vacuum, others voice disappointment and frustration, resulting in a nuanced perspective on its performance and value for money.\n"
          ]
        }
      ]
    },
    {
      "cell_type": "code",
      "execution_count": 5,
      "metadata": {
        "id": "MdQvV1OptXGe",
        "outputId": "968176ac-fbd4-4c8d-f431-041b7d4f609c",
        "colab": {
          "base_uri": "https://localhost:8080/"
        }
      },
      "outputs": [
        {
          "output_type": "stream",
          "name": "stdout",
          "text": [
            "Self Reflexion Response (Single Prompt):\n",
            "### INITIAL SUMMARY:\n",
            "The reviews for this vacuum cleaner present a polarized perspective. On one hand, many users are thrilled with its lightweight design, powerful suction, and long battery life, often praising its ability to clean effectively in various settings. Users appreciate the clever attachments that facilitate cleaning hard-to-reach areas, and several express high levels of satisfaction, recommending the product to others. On the other hand, a significant number of reviewers express frustration with the vacuum's performance, citing issues such as poor battery life, excessive noise, and difficulties with maneuverability. Some users feel misled by positive reviews, and several indicate disappointment, stating they would not recommend the product. Overall, while some find it a great investment, others see it as a waste of money.\n",
            "\n",
            "### SELF-CRITIQUE:\n",
            "- **Important Features Mentioned**: The summary captures the contrasting experiences but could benefit from more specific features mentioned in the reviews, such as the effectiveness with pet hair and the design aspects.\n",
            "- **Emotional Tone Preserved**: The emotional tone is somewhat preserved, but it could be more vividly expressed to reflect the excitement of satisfied customers versus the frustration of dissatisfied ones.\n",
            "- **Specific Details Included**: While the summary includes general observations, it lacks specific details regarding common issues like the dustbin size and customer service experiences.\n",
            "- **Recommendation Clarity**: The recommendation is clear in acknowledging both sides, but it could suggest that potential buyers do thorough research before purchasing.\n",
            "- **Improvements**: The summary could be enhanced by incorporating more vivid language and directly quoting or paraphrasing some of the emotional expressions from the reviews. \n",
            "\n",
            "### REFINED SUMMARY:\n",
            "The reviews of this vacuum cleaner reveal a stark division among users. Many are ecstatic about its lightweight design, exceptional suction power, and impressive battery life, with several noting that they can clean their entire homes on a single charge. The vacuum's attachments receive particular praise for making it easy to clean difficult areas, and users express strong recommendations, declaring it the best vacuum they've ever owned. Conversely, a notable number of reviewers voice significant disappointment, highlighting issues such as a short battery life, excessive noise, and cumbersome maneuverability. Some users feel misled by the initial positive impressions and report poor customer service experiences when seeking solutions. Overall, while the vacuum has garnered enthusiastic endorsements, potential buyers are advised to consider both the rave reviews and critical feedback before making a decision.\n",
            "==================================================\n"
          ]
        }
      ],
      "source": [
        "# Review + Reflexion in a single prompt\n",
        "review_to_analyze = REVIEWS_TEXT\n",
        "\n",
        "reflexion_prompt = f\"\"\"\n",
        "Summarize the following product review using a self-reflexion approach:\n",
        "\n",
        "Review: {review_to_analyze}\n",
        "\n",
        "Please follow these steps in your response:\n",
        "\n",
        "1. INITIAL SUMMARY: First, write a draft summary of the review.\n",
        "\n",
        "2. SELF-CRITIQUE: Then, critique your own summary. Consider:\n",
        "   - Are all important features mentioned?\n",
        "   - Is the emotional tone preserved?\n",
        "   - Are specific details included?\n",
        "   - Is the recommendation clear?\n",
        "   - What could be improved?\n",
        "\n",
        "3. REFINED SUMMARY: Finally, provide an improved summary that addresses the issues identified in your critique.\n",
        "\n",
        "Format your response with clear labels for each section.\n",
        "\"\"\"\n",
        "\n",
        "reflexion_response = generate_response(reflexion_prompt, max_tokens=400)\n",
        "print(\"Self Reflexion Response (Single Prompt):\")\n",
        "print(reflexion_response)\n",
        "print(\"=\" * 50)"
      ]
    },
    {
      "cell_type": "markdown",
      "metadata": {
        "id": "e2f0ded4"
      },
      "source": [
        "## Chain of Thought Prompting"
      ]
    },
    {
      "cell_type": "markdown",
      "source": [
        "#### How it works\n",
        "1. It breakdonwn problem into small squential steps\n",
        "2. Process each step one by one\n",
        "3. This manual slowdown process increase the quality of result being generated as the model improves it reasoning in each step."
      ],
      "metadata": {
        "id": "sRn7kcYMzuv3"
      }
    },
    {
      "cell_type": "code",
      "execution_count": null,
      "metadata": {
        "id": "rsM6s_jfsduO"
      },
      "outputs": [],
      "source": [
        "# Real-world example: Summarize a product review using Chain of Thought (using neutral review for balanced reasoning).\n",
        "\n",
        "chain_of_thought_prompt = f\"\"\"\n",
        "Summarize the following product review, thinking step by step:\n",
        "\n",
        "Review: {REVIEWS_TEXT}\n",
        "\n",
        "Final Summary of Review:\n",
        "\n",
        "Note: Write down your thought process as you progress step-by-step.\n",
        "\"\"\"\n",
        "\n",
        "chain_of_thought_response = generate_response(chain_of_thought_prompt, max_tokens=300) # Increased max_tokens for detailed steps\n",
        "print(\"Chain of Thought Response:\")\n",
        "print(chain_of_thought_response)"
      ]
    },
    {
      "cell_type": "markdown",
      "metadata": {
        "id": "7d706558"
      },
      "source": [
        "## Tree of Thoughts Prompting"
      ]
    },
    {
      "cell_type": "markdown",
      "source": [
        "#### How it works\n",
        "1. It breakdown problem into multipl intermediate thoughts.\n",
        "2. Each thoughts then processed indepentantly which intern produce muliple thoughts, This cycle continous until the optimal reasoning path is identified."
      ],
      "metadata": {
        "id": "lJUnVBA51MX0"
      }
    },
    {
      "cell_type": "code",
      "execution_count": null,
      "metadata": {
        "id": "784d307c"
      },
      "outputs": [],
      "source": [
        "# Real-world example: Summarize a product review using a simulated Tree of Thoughts.\n",
        "# Note: A true Tree of Thoughts implementation is more complex and would involve\n",
        "# exploring multiple reasoning paths and evaluating them. This is a simplified simulation.\n",
        "\n",
        "def tree_of_thoughts_prompting(initial_thought_prompt, expansion_prompt, evaluation_prompt, steps=2):\n",
        "    \"\"\"\n",
        "    Simulates a basic Tree of Thoughts approach.\n",
        "\n",
        "    Args:\n",
        "        initial_thought_prompt: The initial prompt to generate a starting thought.\n",
        "        expansion_prompt: Prompt to generate subsequent thoughts based on previous ones.\n",
        "        evaluation_prompt: Prompt to evaluate the generated thoughts.\n",
        "        steps: Number of expansion steps to simulate.\n",
        "\n",
        "    Returns:\n",
        "        The evaluated best thought or a summary of the process.\n",
        "    \"\"\"\n",
        "    try:\n",
        "        thoughts = [generate_response(initial_thought_prompt)]\n",
        "        print(\"Initial Thought:\", thoughts[0])\n",
        "\n",
        "        for step in range(steps):\n",
        "            new_thoughts = []\n",
        "            for thought in thoughts:\n",
        "                expansion_response = generate_response(f\"{expansion_prompt}\\n\\nPrevious thought: {thought}\")\n",
        "                # Simple split to simulate multiple thoughts\n",
        "                expanded_thoughts = [t.strip() for t in expansion_response.split('\\n') if t.strip()]\n",
        "                new_thoughts.extend(expanded_thoughts)\n",
        "            thoughts = new_thoughts\n",
        "            print(f\"\\nThoughts after step {step + 1}:\")\n",
        "            for i, thought in enumerate(thoughts):\n",
        "                print(f\"  Thought {i+1}: {thought}\")\n",
        "\n",
        "        # Simple evaluation: Ask the model to pick the best thought or summarize\n",
        "        evaluation_response = generate_response(f\"{evaluation_prompt}\\n\\nThoughts to evaluate:\\n\" + \"\\n\".join([f\"- {t}\" for t in thoughts]))\n",
        "\n",
        "        return evaluation_response\n",
        "\n",
        "    except Exception as e:\n",
        "        return f\"An error occurred: {e}\"\n",
        "\n",
        "# Example usage with the product review summarization (using positive review - too expensive for multiple)\n",
        "initial_thought_prompt = \"Generate an initial thought about summarizing a product review.\"\n",
        "expansion_prompt = \"Expand on the following thought to generate alternative approaches for summarizing a product review.\"\n",
        "evaluation_prompt = f\"Review the following thoughts for summarizing a product review and provide the best summary based on the original review: {REVIEWS_TEXT}\"\n",
        "\n",
        "\n",
        "tree_of_thoughts_response = tree_of_thoughts_prompting(initial_thought_prompt, expansion_prompt, evaluation_prompt, steps=2)\n",
        "print(\"\\nTree of Thoughts Simulation Result:\")\n",
        "print(tree_of_thoughts_response)"
      ]
    },
    {
      "cell_type": "markdown",
      "metadata": {
        "id": "5c83c571"
      },
      "source": [
        "## Meta Prompting"
      ]
    },
    {
      "cell_type": "markdown",
      "source": [
        "#### How it works\n",
        "1. It focuses on the structure rather than content\n",
        "2. It assigns Role to LLM to narrow down its action based on the given role.\n",
        "3. It set structures for Input and Ouput rather than freeform generation\n",
        "4. This structural enforcement improves the quality by capturing the only needed information."
      ],
      "metadata": {
        "id": "-k3n2uH-4aGp"
      }
    },
    {
      "cell_type": "code",
      "execution_count": null,
      "metadata": {
        "id": "00d6a430"
      },
      "outputs": [],
      "source": [
        "# Real-world example: Summarize product reviews using Meta Prompting.\n",
        "def test_meta_prompting(review):\n",
        "    meta_prompt = f\"\"\"\n",
        "You are an expert in summarizing product reviews. Your goal is to provide a concise and informative summary of the given review, focusing only on the key positive and negative aspects mentioned.\n",
        "\n",
        "Here is the product review:\n",
        "Review: {review}\n",
        "\n",
        "Provide the summary in the following format:\n",
        "Emotion: [Your emotion about the review]\n",
        "Summary: [Your concise summary here]\n",
        "Recommendation: [Your recommendation for the product]\n",
        "\"\"\"\n",
        "    response = generate_response(meta_prompt)\n",
        "    print(f\"Meta Prompting Response\")\n",
        "    print(response)\n",
        "    print(\"-\" * 50)\n",
        "\n",
        "# Test with all three review types\n",
        "test_meta_prompting(REVIEWS_TEXT)"
      ]
    }
  ],
  "metadata": {
    "colab": {
      "provenance": [],
      "collapsed_sections": [
        "7d706558"
      ],
      "include_colab_link": true
    },
    "kernelspec": {
      "display_name": ".venv",
      "language": "python",
      "name": "python3"
    },
    "language_info": {
      "name": "python",
      "version": "3.13.7"
    }
  },
  "nbformat": 4,
  "nbformat_minor": 0
}