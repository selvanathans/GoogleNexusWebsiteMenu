{
  "cells": [
    {
      "cell_type": "markdown",
      "metadata": {
        "id": "view-in-github",
        "colab_type": "text"
      },
      "source": [
        "<a href=\"https://colab.research.google.com/github/selvanathans/GoogleNexusWebsiteMenu/blob/master/Prompting_Strategy.ipynb\" target=\"_parent\"><img src=\"https://colab.research.google.com/assets/colab-badge.svg\" alt=\"Open In Colab\"/></a>"
      ]
    },
    {
      "cell_type": "markdown",
      "metadata": {
        "id": "ub0NTGA6uYuV"
      },
      "source": [
        "## Setup"
      ]
    },
    {
      "cell_type": "code",
      "execution_count": 1,
      "metadata": {
        "id": "55xgFPWJubs3"
      },
      "outputs": [],
      "source": [
        "# Setup the OpenAI client and create the sample review\n",
        "\n",
        "import os\n",
        "from openai import OpenAI\n",
        "from google.colab import userdata\n",
        "\n",
        "# Make sure you have set the OPENAI_API_KEY environment variable\n",
        "# For Colab, you can use the \"🔑\" icon on the left panel to add your API key as a secret.\n",
        "# Name the secret OPENAI_API_KEY.\n",
        "# If you are running this outside of Colab, you can set it as an environment variable\n",
        "# in your terminal: export OPENAI_API_KEY='your-api-key'\n",
        "# Or you can uncomment the line below and replace 'your-api-key' with your actual key:\n",
        "# os.environ['OPENAI_API_KEY'] = 'your-api-key'\n",
        "\n",
        "client = OpenAI(\n",
        "    # This is the default and can be omitted\n",
        "    base_url=\"https://openrouter.ai/api/v1\",\n",
        "    api_key= userdata.get('API_KEY'),\n",
        ")\n",
        "\n",
        "model = \"openai/gpt-4o-mini\" #\"gpt-4.1-mini-2025-04-14\"\n",
        "\n",
        "def generate_response(prompt, model=model, max_tokens=150):\n",
        "    \"\"\"\n",
        "    Generates a response from the OpenAI API.\n",
        "\n",
        "    Args:\n",
        "        prompt: The input prompt for the model.\n",
        "        model: The OpenAI model to use (default: \"gpt-3.5-turbo\").\n",
        "        max_tokens: The maximum number of tokens in the generated response.\n",
        "\n",
        "    Returns:\n",
        "        The text of the generated response.\n",
        "    \"\"\"\n",
        "    try:\n",
        "        response = client.chat.completions.create(\n",
        "            model=model,\n",
        "            messages=[\n",
        "                {\"role\": \"user\", \"content\": prompt}\n",
        "            ],\n",
        "            temperature=0.7,\n",
        "            max_tokens=5000 # You can adjust the temperature\n",
        "        )\n",
        "        return response.choices[0].message.content.strip()\n",
        "    except Exception as e:\n",
        "        return f\"Error generating response: {e}\"\n",
        "\n",
        "\n",
        "\n",
        "# Product Reviews for Examples - Vacuum Cleaner Reviews with Mixed Emotions\n",
        "REVIEWS = [\n",
        "    # Enthusiastic positive reviews\n",
        "    \"This vacuum cleaner is absolutely AMAZING! 🎉 I'm so thrilled with my purchase! It's incredibly lightweight, super powerful, and the battery lasts forever. I cleaned my entire 3-bedroom house on a single charge and still had juice left! The attachments are genius - they make reaching tight spaces a breeze. My floors have never been cleaner. I'm telling all my friends about this! HIGHLY RECOMMENDED!\",\n",
        "\n",
        "    \"I'm genuinely impressed with this vacuum cleaner. After years of struggling with heavy, clunky vacuums, this one is a breath of fresh air. It's so easy to use and maneuver around furniture. The suction power is incredible - it picked up pet hair that my old vacuum couldn't even touch. The battery life is impressive too. Worth every penny!\",\n",
        "\n",
        "    \"OMG, this vacuum is a game-changer! 😍 I was skeptical at first, but wow, it exceeded all my expectations. It's so quiet compared to my old one, and the cordless design is liberating. I can finally vacuum without tripping over cords! The attachments are perfect for my car and stairs. I'm in love with this product!\",\n",
        "\n",
        "    # Frustrated negative reviews\n",
        "    \"I'm extremely frustrated with this vacuum cleaner. It's a complete waste of money! The battery dies after just 10 minutes of use - I can't even finish one room! It's also incredibly heavy and awkward to maneuver. The suction is pathetic and it struggles with basic dirt. I'm returning this immediately. Terrible product!\",\n",
        "\n",
        "    \"This vacuum cleaner is a huge disappointment. I had such high hopes based on the reviews, but it's been nothing but trouble. The attachments keep falling off, the battery life is terrible, and it's so loud it scares my pets. I'm really upset about this purchase. Would not recommend to anyone.\",\n",
        "\n",
        "    \"I'm absolutely furious about this vacuum! It's been nothing but problems since day one. The motor makes a horrible grinding noise, the dustbin is tiny and fills up immediately, and the battery is completely unreliable. I feel completely ripped off. This is the worst vacuum I've ever owned!\",\n",
        "\n",
        "    # Analytical neutral reviews\n",
        "    \"This vacuum cleaner has both good and bad points. On the positive side, it's relatively lightweight and the attachments work well for corners. However, the battery life is average - it lasts about 30 minutes, which is enough for a small apartment but not a large house. The suction power is decent for daily cleaning but struggles with deep-pile carpets. It's an okay product for the price, but there might be better options available.\",\n",
        "\n",
        "    \"I have mixed feelings about this vacuum. It does what it's supposed to do, but I'm not blown away. The design is nice and it's easy to store, but the battery life could be better. It works fine for quick cleanups but struggles with heavy-duty cleaning. I'm not sure if I'd buy it again, but it's not terrible either.\",\n",
        "\n",
        "    \"This vacuum is... fine. It gets the job done but nothing more. The build quality seems decent, and it's reasonably priced. However, I've noticed it's not as powerful as I expected, and the dustbin fills up quickly. It's an average product - not great, not terrible. I'll probably keep it since it works, but I'm not excited about it.\",\n",
        "\n",
        "    # Emotional reviews (nostalgic, hopeful, regretful)\n",
        "    \"This vacuum reminds me of the one my grandmother used to have - simple, reliable, and effective. It's not fancy, but it does exactly what you need it to do. I appreciate the straightforward design and the fact that it doesn't have unnecessary bells and whistles. Sometimes the old ways are the best ways.\",\n",
        "\n",
        "    \"I'm hopeful this vacuum will work out better than my last one. So far, it seems to be doing okay, but I'm still in the trial period. The battery life seems decent, and it's definitely lighter than what I had before. Fingers crossed it holds up over time!\",\n",
        "\n",
        "    \"I really regret buying this vacuum cleaner. I should have done more research before purchasing. It's not terrible, but it's definitely not worth the price I paid. I wish I had gone with a different brand or model. Live and learn, I guess.\",\n",
        "\n",
        "    # Technical reviews\n",
        "    \"As someone who's used many vacuums professionally, this one is quite impressive from a technical standpoint. The motor is well-designed and efficient, the filtration system is excellent, and the ergonomics are well thought out. However, the battery management system could be improved, and the noise level is higher than expected. Overall, it's a solid performer with room for improvement.\",\n",
        "\n",
        "    \"I've been testing this vacuum for a month now, and I have to say, it's exceeded my expectations in most areas. The suction power is consistent, the battery life is reliable, and the build quality feels premium. The only issue I've encountered is that the dustbin can be tricky to empty sometimes. But overall, I'm very satisfied with this purchase.\",\n",
        "\n",
        "    # Short and concise reviews\n",
        "    \"Love it! Best vacuum I've ever owned.\",\n",
        "\n",
        "    \"Waste of money. Don't buy this.\",\n",
        "\n",
        "    \"It's okay, nothing special.\",\n",
        "\n",
        "    # Detailed experience reviews\n",
        "    \"After using this vacuum for 6 months, I can confidently say it's been a mixed experience. The initial excitement wore off when I realized the battery life wasn't as advertised. However, the suction power is genuinely impressive, and it handles pet hair better than any vacuum I've used. The attachments are well-designed, though the dustbin could be larger. Overall, it's a good product with some limitations.\",\n",
        "\n",
        "    \"I bought this vacuum during a Black Friday sale and honestly, I'm not sure if it was worth it even at the discounted price. The first month was great - it worked perfectly and I was happy with my purchase. But then the battery started degrading quickly, and now it barely lasts 15 minutes. Customer service was unhelpful too. I'm disappointed but I'll make it work until I can afford a replacement.\"\n",
        "]\n",
        "\n",
        "\n",
        "# For consistency with existing examples\n",
        "REVIEWS_TEXT = \"\\n\\n\".join([f\"Review {i+1}:\\n{review}\" for i, review in enumerate(REVIEWS)])"
      ]
    },
    {
      "cell_type": "markdown",
      "metadata": {
        "id": "sn-VzZwPH6_-"
      },
      "source": [
        "## Zero-Shot Prompting\n"
      ]
    },
    {
      "cell_type": "code",
      "execution_count": 2,
      "metadata": {
        "id": "73b82b63",
        "colab": {
          "base_uri": "https://localhost:8080/"
        },
        "outputId": "fd332dd9-5439-4dcf-9dec-504799311a9d"
      },
      "outputs": [
        {
          "output_type": "stream",
          "name": "stdout",
          "text": [
            "Zero-Shot Response :\n",
            "The reviews for the vacuum cleaner are highly polarized, showcasing a range of emotions and varying experiences. \n",
            "\n",
            "Positive reviews celebrate the vacuum's lightweight design, powerful suction, and impressive battery life, with many users expressing enthusiasm and recommending it to others. They highlight features like effective attachments for tight spaces and ease of maneuverability, noting significant improvements in cleanliness compared to previous vacuums.\n",
            "\n",
            "Conversely, negative reviews are filled with frustration and disappointment. Many users report issues such as short battery life, poor suction power, and problems with attachments. Some feel cheated and express regret over their purchase, stating that the product does not deliver on its promises. \n",
            "\n",
            "Overall, while some customers find the vacuum to be a game-changer and highly recommend it, others consider it a waste of money and advise against buying it. The mixed feedback suggests that while the vacuum has potential, its quality may vary significantly, leading to an uncertain recommendation overall.\n",
            "--------------------------------------------------\n"
          ]
        }
      ],
      "source": [
        "# Real-world example: Summarize product reviews with zero-shot prompting.\n",
        "def test_zero_shot(review):\n",
        "    prompt = f\"\"\"\n",
        "Summarize the following product review:\n",
        "\n",
        "Review: {review}\n",
        "\n",
        "Ensure it covers emotions, quality, whether to recomend.\n",
        "\"\"\"\n",
        "    response = generate_response(prompt)\n",
        "    print(f\"Zero-Shot Response :\")\n",
        "    print(response)\n",
        "    print(\"-\" * 50)\n",
        "\n",
        "test_zero_shot(REVIEWS_TEXT)"
      ]
    },
    {
      "cell_type": "markdown",
      "metadata": {
        "id": "f1395a52"
      },
      "source": [
        "## Few-Shot Prompting"
      ]
    },
    {
      "cell_type": "code",
      "execution_count": 3,
      "metadata": {
        "id": "810fc3ef",
        "colab": {
          "base_uri": "https://localhost:8080/"
        },
        "outputId": "b64484cc-78c6-487d-dbc5-89b7f4e6fed6"
      },
      "outputs": [
        {
          "output_type": "stream",
          "name": "stdout",
          "text": [
            "Few-Shot Response:\n",
            "The vacuum cleaner reviews present a wide range of opinions, highlighting both positive and negative experiences. \n",
            "\n",
            "**Positive Aspects:**\n",
            "- Many users praise the vacuum for being lightweight, powerful, and effective at picking up dirt and pet hair.\n",
            "- Some reviewers appreciate the cordless design, quiet operation, and versatile attachments for cleaning various surfaces.\n",
            "- A few customers report satisfaction with the build quality and suction performance over time.\n",
            "\n",
            "**Negative Aspects:**\n",
            "- Several users express frustration with poor battery life, with some models dying quickly or not lasting through a full cleaning session.\n",
            "- Complaints about heavy weight, difficulty maneuvering, and inadequate suction power for deeper cleaning tasks are common.\n",
            "- Issues with the dustbin filling up quickly, attachments falling off, and customer service dissatisfaction are noted as well.\n",
            "\n",
            "Overall, while some users find the vacuum cleaner to be a great value and effective for their needs, others feel disappointed and regretful about their purchase, indicating a mixed experience across different reviews.\n",
            "--------------------------------------------------\n"
          ]
        }
      ],
      "source": [
        "# Real-world example: Summarize product reviews with few-shot examples.\n",
        "def test_few_shot(review):\n",
        "    few_shot_prompt = f\"\"\"\n",
        "Summarize the following product reviews:\n",
        "\n",
        "Review: This phone is terrible. The battery dies in an hour and the camera is blurry.\n",
        "Summary: Poor battery life and camera quality.\n",
        "\n",
        "Review: I love this laptop! It's fast, lightweight, and the screen is stunning.\n",
        "Summary: Fast, lightweight, and excellent display.\n",
        "\n",
        "Review: {review}\n",
        "Summary:\n",
        "\"\"\"\n",
        "    response = generate_response(few_shot_prompt)\n",
        "    print(f\"Few-Shot Response:\")\n",
        "    print(response)\n",
        "    print(\"-\" * 50)\n",
        "\n",
        "# Test with all three review types\n",
        "test_few_shot(REVIEWS_TEXT)"
      ]
    },
    {
      "cell_type": "markdown",
      "metadata": {
        "id": "tYqFe1-ptNT5"
      },
      "source": [
        "## Self Reflexion"
      ]
    },
    {
      "cell_type": "markdown",
      "source": [
        "#### How it works:\n",
        "1. Generates the Initial summary\n",
        "2. Performs the self review\n",
        "3. Using the self review feedback, it refines the generated summary by addressing feedback."
      ],
      "metadata": {
        "id": "vFiJg47rzQwC"
      }
    },
    {
      "cell_type": "code",
      "source": [
        "# Real-world example: Summarize a product review using Reflexion (using positive review for complexity).\n",
        "\n",
        "# Initial prompt\n",
        "initial_review_prompt = f\"Summarize the following product review:\\n\\n{REVIEWS_TEXT}\"\n",
        "\n",
        "initial_review_response = generate_response(initial_review_prompt)\n",
        "print(\"Initial Reflexion Response:\")\n",
        "print(initial_review_response)\n",
        "\n",
        "# Reflection prompt to improve the summary\n",
        "reflection_review_prompt = f\"\"\"\n",
        "Based on the following product review and the initial summary:\n",
        "\n",
        "Review: {REVIEWS_TEXT}\n",
        "\n",
        "Initial Summary: {initial_review_response}\n",
        "\n",
        "Critique the initial summary. Does it capture all the key positive aspects mentioned in the review (lightweight, powerful, long battery life, useful attachments, highly recommended)? Suggest improvements to make the summary more comprehensive and accurate.\n",
        "\"\"\"\n",
        "\n",
        "reflection_on_review = generate_response(reflection_review_prompt)\n",
        "print(\"\\nReflection on Initial Response:\")\n",
        "print(reflection_on_review)\n",
        "\n",
        "# Refined prompt incorporating the reflection\n",
        "refined_review_prompt = f\"\"\"\n",
        "Based on the following product review and the critique of the initial summary, provide a refined and comprehensive summary:\n",
        "\n",
        "Review: {REVIEWS_TEXT}\n",
        "\n",
        "Critique: {reflection_on_review}\n",
        "\n",
        "Refined Summary:\n",
        "\"\"\"\n",
        "\n",
        "refined_review_response = generate_response(refined_review_prompt)\n",
        "print(\"\\nRefined Reflexion Response:\")\n",
        "print(refined_review_response)"
      ],
      "metadata": {
        "id": "l_Ba589oSQmE",
        "colab": {
          "base_uri": "https://localhost:8080/"
        },
        "outputId": "49659aef-428a-4f4d-9828-b69805afe781"
      },
      "execution_count": 6,
      "outputs": [
        {
          "output_type": "stream",
          "name": "stdout",
          "text": [
            "Initial Reflexion Response:\n",
            "The reviews for this vacuum cleaner present a wide range of experiences. Many users praise its lightweight design, powerful suction, and impressive battery life, with some reporting that it effectively cleans pet hair and tight spaces. Several reviews highlight the convenience of its cordless feature and useful attachments. However, there are notable complaints regarding battery life, with some users experiencing rapid depletion and poor performance, especially in larger spaces. Others express dissatisfaction with the vacuum's weight, noise level, and build quality. Overall, while some customers highly recommend the product, others have found it disappointing and problematic, leading to mixed feelings about its value.\n",
            "\n",
            "Reflection on Initial Response:\n",
            "The initial summary does a decent job of capturing the overall sentiment towards the vacuum cleaner, but it could be improved in several ways to better reflect the key positive and negative aspects mentioned in the reviews. Here are some critiques and suggestions for improvement:\n",
            "\n",
            "### Critique of the Initial Summary:\n",
            "\n",
            "1. **Positive Aspects**:\n",
            "   - The summary mentions \"lightweight design, powerful suction, and impressive battery life,\" but it could emphasize the positive experiences of users who felt liberated by the cordless feature and praised the vacuum as \"AMAZING\" and a \"game-changer.\" \n",
            "   - The summary notes \"useful attachments,\" but it should highlight specific positive feedback on how the attachments facilitate cleaning tight spaces, cars, and stairs.\n",
            "\n",
            "2. **Negative Aspects**:\n",
            "   - The summary mentions complaints about battery life, but it could clarify that the battery issues were severe for certain users, with reports of a quick depletion (e.g., 10 to 15 minutes). \n",
            "   - While it touches on dissatisfaction with weight and build quality, it could be more explicit about the degree of frustration expressed by some users regarding these issues.\n",
            "\n",
            "3. **Mixed Feelings**:\n",
            "   - The summary states that there are \"mixed feelings\" about the product but does not specify the contrasting experiences adequately. Some users are ecstatic and highly recommend the product, while others are extremely disappointed and consider it a waste of money.\n",
            "\n",
            "### Suggested Improvements:\n",
            "\n",
            "1. **Incorporate Enthusiastic Responses**:\n",
            "   - The summary should highlight the strong praise from users who found the vacuum to be lightweight, powerful, and effective, making it clear that many customers have had very positive experiences.\n",
            "\n",
            "2. **Address Specific Complaints**:\n",
            "   - Include more details about the significant battery life complaints, such as specific timeframes mentioned in reviews (10 minutes, 15 minutes), to convey the severity of the issues some users experienced.\n",
            "   - Mention the common complaints regarding the noise level and the tendency for attachments to fall off, which were noted in several reviews.\n",
            "\n",
            "3. **Balance the Overall Sentiment**:\n",
            "   - Acknowledge the stark contrast between the reviews, emphasizing that while some customers would highly recommend the product, others found it to be a disappointment, thus providing a clearer picture of the product's reception.\n",
            "\n",
            "### Revised Summary:\n",
            "\n",
            "The reviews for this vacuum cleaner present a stark contrast in user experiences. Many customers rave about its lightweight design, powerful suction, and impressive battery life, with some users reporting the ability to clean an entire house on a single charge and praising the effectiveness of its attachments for cleaning tight spaces, cars, and stairs. Some reviews describe the vacuum as \"AMAZING\" and a \"game-changer,\" highlighting the convenience of its cordless design. However, significant complaints arise regarding battery life, with several users experiencing rapid depletion (as low as 10-15 minutes) that makes it difficult to complete cleaning tasks, especially in larger homes. Additional issues include dissatisfaction with the vacuum's weight, noise level, and build quality, leading to frustration from some customers who consider it a waste of money. Overall, while many users highly recommend the product, others have found it disappointing and problematic, resulting in a mixed overall sentiment regarding its value.\n",
            "\n",
            "Refined Reflexion Response:\n",
            "The reviews of this vacuum cleaner reveal a wide range of user experiences, showcasing both strong endorsements and significant criticisms. Many customers express enthusiasm for its lightweight design, powerful suction, and long battery life, with some users managing to clean their entire homes on a single charge. The cordless feature is frequently praised for providing freedom during use, and the attachments are noted for their effectiveness in reaching tight spaces, cars, and stairs, leading some users to describe the product as \"AMAZING\" and a \"game-changer.\"\n",
            "\n",
            "Conversely, there are serious complaints regarding the vacuum's battery performance, with multiple users reporting issues of rapid depletion, sometimes lasting as little as 10 to 15 minutes, which hampers their ability to finish cleaning tasks. Additionally, some reviews highlight concerns about the vacuum’s weight and noise level, contributing to frustration for users who expected better performance. Problems with build quality and attachment reliability are also cited, leading to disappointment for those who anticipated a superior product.\n",
            "\n",
            "In summary, while many customers highly recommend the vacuum for its effectiveness and convenience, a significant number have encountered serious issues that have colored their overall satisfaction, resulting in a mixed sentiment about its value and reliability.\n"
          ]
        }
      ]
    },
    {
      "cell_type": "code",
      "execution_count": 7,
      "metadata": {
        "id": "MdQvV1OptXGe",
        "colab": {
          "base_uri": "https://localhost:8080/"
        },
        "outputId": "3be4a63f-d7a2-4a24-8131-0f611072fe75"
      },
      "outputs": [
        {
          "output_type": "stream",
          "name": "stdout",
          "text": [
            "Self Reflexion Response (Single Prompt):\n",
            "### INITIAL SUMMARY:\n",
            "This collection of reviews on a vacuum cleaner presents a stark contrast in user experiences. Many users rave about the vacuum's lightweight design, powerful suction, and impressive battery life, with several highlighting its effectiveness at picking up pet hair and maneuvering around furniture. However, a notable number of reviews express frustration, citing issues such as poor battery performance, heavy weight, and unsatisfactory suction power. While some consider it a great value, others feel deceived and regret their purchase. Overall, the product has received mixed reviews, with some users highly recommending it and others strongly advising against it.\n",
            "\n",
            "### SELF-CRITIQUE:\n",
            "- **Important Features**: The summary captures the main features such as lightweight design, suction power, and battery life, but it could better emphasize the specific pros and cons mentioned by users.\n",
            "- **Emotional Tone**: The emotional tone is somewhat preserved; however, it could more strongly reflect the enthusiasm of satisfied customers and the frustration of dissatisfied ones.\n",
            "- **Specific Details**: While general themes are covered, specific details regarding individual experiences (like problems with attachments or customer service) are lacking.\n",
            "- **Recommendation Clarity**: The summary does mention mixed reviews, but it would benefit from a clearer indication of whether the vacuum is recommended overall or not.\n",
            "- **Improvements**: Adding more specific examples from individual reviews and a clearer conclusion about the product's overall value would enhance the summary.\n",
            "\n",
            "### REFINED SUMMARY:\n",
            "The reviews of this vacuum cleaner reveal a polarized user experience. On one hand, many customers are ecstatic about its lightweight design, powerful suction, and long-lasting battery, with some noting its exceptional ability to pick up pet hair and navigate through tight spaces easily. Enthusiastic users often recommend the product, citing it as a game-changer in their cleaning routine. On the other hand, numerous reviews express severe disappointment, pointing out issues like rapid battery depletion, heavy weight, poor suction on certain surfaces, and problematic attachments. Some users feel misled by initial positive experiences that deteriorated over time, particularly regarding battery life and customer service. Overall, while many love this vacuum and find it effective for regular cleaning tasks, a significant portion of users caution potential buyers to consider other options, making it a mixed recommendation.\n",
            "==================================================\n"
          ]
        }
      ],
      "source": [
        "# Review + Reflexion in a single prompt\n",
        "review_to_analyze = REVIEWS_TEXT\n",
        "\n",
        "reflexion_prompt = f\"\"\"\n",
        "Summarize the following product review using a self-reflexion approach:\n",
        "\n",
        "Review: {review_to_analyze}\n",
        "\n",
        "Please follow these steps in your response:\n",
        "\n",
        "1. INITIAL SUMMARY: First, write a draft summary of the review.\n",
        "\n",
        "2. SELF-CRITIQUE: Then, critique your own summary. Consider:\n",
        "   - Are all important features mentioned?\n",
        "   - Is the emotional tone preserved?\n",
        "   - Are specific details included?\n",
        "   - Is the recommendation clear?\n",
        "   - What could be improved?\n",
        "\n",
        "3. REFINED SUMMARY: Finally, provide an improved summary that addresses the issues identified in your critique.\n",
        "\n",
        "Format your response with clear labels for each section.\n",
        "\"\"\"\n",
        "\n",
        "reflexion_response = generate_response(reflexion_prompt, max_tokens=400)\n",
        "print(\"Self Reflexion Response (Single Prompt):\")\n",
        "print(reflexion_response)\n",
        "print(\"=\" * 50)"
      ]
    },
    {
      "cell_type": "markdown",
      "metadata": {
        "id": "e2f0ded4"
      },
      "source": [
        "## Chain of Thought Prompting"
      ]
    },
    {
      "cell_type": "markdown",
      "source": [
        "#### How it works\n",
        "1. It breakdonwn problem into small squential steps\n",
        "2. Process each step one by one\n",
        "3. This manual slowdown process increase the quality of result being generated as the model improves it reasoning in each step."
      ],
      "metadata": {
        "id": "sRn7kcYMzuv3"
      }
    },
    {
      "cell_type": "code",
      "execution_count": 8,
      "metadata": {
        "id": "rsM6s_jfsduO",
        "colab": {
          "base_uri": "https://localhost:8080/"
        },
        "outputId": "242a3feb-23e3-47ad-ebad-3a13a1e49ab4"
      },
      "outputs": [
        {
          "output_type": "stream",
          "name": "stdout",
          "text": [
            "Chain of Thought Response:\n",
            "To summarize the product reviews effectively, I will analyze the feedback step-by-step, identifying key themes, sentiments, and recurring points mentioned by the reviewers.\n",
            "\n",
            "### Step 1: Identify Positive Feedback\n",
            "- **Lightweight and Easy to Use**: Multiple reviewers praise the vacuum for its lightweight design and ease of maneuverability.\n",
            "- **Powerful Suction**: Many reviews highlight strong suction capabilities, especially in dealing with pet hair and dirt.\n",
            "- **Battery Life**: Some users report impressive battery life, with some managing to clean whole areas on a single charge.\n",
            "- **Attachments**: Several reviews mention the usefulness of attachments for reaching tight spaces and cleaning cars and stairs.\n",
            "- **Quiet Operation**: A few users appreciate the quieter operation compared to their previous vacuums.\n",
            "\n",
            "### Step 2: Identify Negative Feedback\n",
            "- **Battery Issues**: A significant number of reviewers express frustration with poor battery performance, with some stating it lasts only minutes.\n",
            "- **Weight and Maneuverability Problems**: Some users find the vacuum heavy and awkward to handle, contrary to the positive feedback from others.\n",
            "- **Suction Power Limitations**: Although many praise the suction, a few reviewers find it lacking, particularly on deep-pile carpets.\n",
            "- **Quality Control Issues**: Problems with attachments falling off, noise levels, and dustbin capacity are mentioned as concerns.\n",
            "\n",
            "### Step 3: Analyze Mixed Reviews\n",
            "- **Mixed Experiences**: Some users have had both good and bad experiences, noting that while the vacuum performs well for light cleaning, it falls short in heavy-duty scenarios.\n",
            "- **Value for Money**: There are mixed opinions about whether the vacuum is worth the price, with some feeling it was a good deal while others regret their purchase.\n",
            "\n",
            "### Step 4: Summarize Key Points\n",
            "Based on the analysis, I will summarize the main points:\n",
            "\n",
            "**Overall Sentiment**: The product has elicited a wide range of reactions, from enthusiastic praise to severe disappointment. Many users appreciate its lightweight design and strong suction, especially for pet hair, while others experience battery issues and quality control concerns.\n",
            "\n",
            "**Strengths**:\n",
            "- Lightweight and easy to maneuver.\n",
            "- Powerful suction for everyday cleaning, especially on pet hair.\n",
            "- Useful attachments for various cleaning situations.\n",
            "- Generally quiet operation.\n",
            "\n",
            "**Weaknesses**:\n",
            "- Inconsistent battery life; some users report very short usage times.\n",
            "- Some find it heavy or awkward despite claims of being lightweight.\n",
            "- Quality issues with attachments and noise levels noted by several reviewers.\n",
            "\n",
            "### Final Summary of Review\n",
            "In summary, this vacuum cleaner has received mixed reviews. Many users love its lightweight design, powerful suction, and helpful attachments, making it ideal for everyday cleaning, especially for pet owners. However, significant concerns arise regarding battery life and quality control, with some users experiencing severe limitations and frustrations. Overall, while some find it a worthy investment, others feel let down and would not recommend it.\n"
          ]
        }
      ],
      "source": [
        "# Real-world example: Summarize a product review using Chain of Thought (using neutral review for balanced reasoning).\n",
        "\n",
        "chain_of_thought_prompt = f\"\"\"\n",
        "Summarize the following product review, thinking step by step:\n",
        "\n",
        "Review: {REVIEWS_TEXT}\n",
        "\n",
        "Final Summary of Review:\n",
        "\n",
        "Note: Write down your thought process as you progress step-by-step.\n",
        "\"\"\"\n",
        "\n",
        "chain_of_thought_response = generate_response(chain_of_thought_prompt, max_tokens=300) # Increased max_tokens for detailed steps\n",
        "print(\"Chain of Thought Response:\")\n",
        "print(chain_of_thought_response)"
      ]
    },
    {
      "cell_type": "markdown",
      "metadata": {
        "id": "7d706558"
      },
      "source": [
        "## Tree of Thoughts Prompting"
      ]
    },
    {
      "cell_type": "markdown",
      "source": [
        "#### How it works\n",
        "1. It breakdown problem into multipl intermediate thoughts.\n",
        "2. Each thoughts then processed indepentantly which intern produce muliple thoughts, This cycle continous until the optimal reasoning path is identified."
      ],
      "metadata": {
        "id": "lJUnVBA51MX0"
      }
    },
    {
      "cell_type": "code",
      "execution_count": null,
      "metadata": {
        "id": "784d307c",
        "colab": {
          "base_uri": "https://localhost:8080/"
        },
        "outputId": "07b6afc9-f314-43ec-e62f-fb4deab036af"
      },
      "outputs": [
        {
          "output_type": "stream",
          "name": "stdout",
          "text": [
            "Initial Thought: When summarizing a product review, it's important to capture the key points that highlight the reviewer's overall experience, including the product's strengths and weaknesses, usability, value for money, and any standout features. This will provide potential buyers with a concise yet comprehensive understanding of the product's performance and suitability for their needs.\n",
            "\n",
            "Thoughts after step 1:\n",
            "  Thought 1: When summarizing a product review, there are several alternative approaches that can enhance the effectiveness and comprehensiveness of the summary. Here are some ideas to expand on the initial thought:\n",
            "  Thought 2: 1. **Categorized Summaries**:\n",
            "  Thought 3: - Organize the summary into distinct categories such as \"Performance,\" \"Design,\" \"Ease of Use,\" \"Customer Service,\" and \"Durability.\" This structured approach allows readers to quickly locate the information that is most relevant to their interests.\n",
            "  Thought 4: 2. **Pros and Cons List**:\n",
            "  Thought 5: - Create a concise pros and cons list at the beginning or end of the summary. This format allows potential buyers to quickly grasp both the positive and negative aspects of the product, aiding in their decision-making process.\n",
            "  Thought 6: 3. **Rating System**:\n",
            "  Thought 7: - Incorporate a numerical or star rating system that quantifies the reviewer's experience. This visual representation can help readers quickly assess the product's overall quality and performance compared to others.\n",
            "  Thought 8: 4. **Highlight Unique Experiences**:\n",
            "  Thought 9: - Include testimonials or quotes from the reviewer that reflect unique or particularly impactful experiences. This personal touch can make the summary more relatable and engaging for potential buyers.\n",
            "  Thought 10: 5. **Comparison to Competitors**:\n",
            "  Thought 11: - Briefly compare the product to its main competitors, highlighting any areas where it excels or falls short. This contextual information can help consumers understand its relative value in the market.\n",
            "  Thought 12: 6. **Use of Visuals**:\n",
            "  Thought 13: - When possible, complement the summary with visuals such as charts, infographics, or images. For example, an infographic could illustrate the product's features or show a breakdown of customer satisfaction ratings by category.\n",
            "  Thought 14: 7. **Scenario-Based Summaries**:\n",
            "  Thought 15: - Create scenarios in which the product might be used, detailing how it performs in different contexts. This approach helps potential buyers envision how the product fits into their own lives.\n",
            "  Thought 16: 8. **Expert Opinions**:\n",
            "  Thought 17: - Incorporate insights or quotes from industry experts or professionals who have reviewed the product. This adds credibility to the summary and can help reinforce the reviewer's points.\n",
            "  Thought 18: 9. **User Demographics**:\n",
            "  Thought 19: - Tailor the summary to specific user demographics, such as beginners, professionals, or budget-conscious buyers. Highlight how the product meets the needs of different groups, making it more relevant to diverse audiences.\n",
            "  Thought 20: 10. **Emotional Resonance**:\n",
            "  Thought 21: - Capture the emotional tone of the review—whether the reviewer felt excited, disappointed, or satisfied. This can provide potential buyers with a sense of the product's impact beyond just its technical specifications.\n",
            "  Thought 22: 11. **Call to Action**:\n",
            "  Thought 23: - End the summary with a clear call to action, suggesting who would benefit most from the product or prompting readers to explore further. This can help guide potential buyers toward making a purchase decision.\n",
            "  Thought 24: 12. **Future Recommendations**:\n",
            "  Thought 25: - Discuss any recommendations the reviewer might have for the manufacturer or potential improvements. This can show potential buyers the product's potential for growth and innovation.\n",
            "  Thought 26: By employing one or more of these approaches, a product review summary can become a more powerful tool for informing potential buyers, enhancing their understanding of the product, and ultimately aiding their purchasing decisions.\n"
          ]
        }
      ],
      "source": [
        "# Real-world example: Summarize a product review using a simulated Tree of Thoughts.\n",
        "# Note: A true Tree of Thoughts implementation is more complex and would involve\n",
        "# exploring multiple reasoning paths and evaluating them. This is a simplified simulation.\n",
        "\n",
        "def tree_of_thoughts_prompting(initial_thought_prompt, expansion_prompt, evaluation_prompt, steps=2):\n",
        "    \"\"\"\n",
        "    Simulates a basic Tree of Thoughts approach.\n",
        "\n",
        "    Args:\n",
        "        initial_thought_prompt: The initial prompt to generate a starting thought.\n",
        "        expansion_prompt: Prompt to generate subsequent thoughts based on previous ones.\n",
        "        evaluation_prompt: Prompt to evaluate the generated thoughts.\n",
        "        steps: Number of expansion steps to simulate.\n",
        "\n",
        "    Returns:\n",
        "        The evaluated best thought or a summary of the process.\n",
        "    \"\"\"\n",
        "    try:\n",
        "        thoughts = [generate_response(initial_thought_prompt)]\n",
        "        print(\"Initial Thought:\", thoughts[0])\n",
        "\n",
        "        for step in range(steps):\n",
        "            new_thoughts = []\n",
        "            for thought in thoughts:\n",
        "                expansion_response = generate_response(f\"{expansion_prompt}\\n\\nPrevious thought: {thought}\")\n",
        "                # Simple split to simulate multiple thoughts\n",
        "                expanded_thoughts = [t.strip() for t in expansion_response.split('\\n') if t.strip()]\n",
        "                new_thoughts.extend(expanded_thoughts)\n",
        "            thoughts = new_thoughts\n",
        "            print(f\"\\nThoughts after step {step + 1}:\")\n",
        "            for i, thought in enumerate(thoughts):\n",
        "                print(f\"  Thought {i+1}: {thought}\")\n",
        "\n",
        "        # Simple evaluation: Ask the model to pick the best thought or summarize\n",
        "        evaluation_response = generate_response(f\"{evaluation_prompt}\\n\\nThoughts to evaluate:\\n\" + \"\\n\".join([f\"- {t}\" for t in thoughts]))\n",
        "\n",
        "        return evaluation_response\n",
        "\n",
        "    except Exception as e:\n",
        "        return f\"An error occurred: {e}\"\n",
        "\n",
        "# Example usage with the product review summarization (using positive review - too expensive for multiple)\n",
        "initial_thought_prompt = \"Generate an initial thought about summarizing a product review.\"\n",
        "expansion_prompt = \"Expand on the following thought to generate alternative approaches for summarizing a product review.\"\n",
        "evaluation_prompt = f\"Review the following thoughts for summarizing a product review and provide the best summary based on the original review: {REVIEWS_TEXT}\"\n",
        "\n",
        "\n",
        "tree_of_thoughts_response = tree_of_thoughts_prompting(initial_thought_prompt, expansion_prompt, evaluation_prompt, steps=2)\n",
        "print(\"\\nTree of Thoughts Simulation Result:\")\n",
        "print(tree_of_thoughts_response)"
      ]
    },
    {
      "cell_type": "markdown",
      "metadata": {
        "id": "5c83c571"
      },
      "source": [
        "## Meta Prompting"
      ]
    },
    {
      "cell_type": "markdown",
      "source": [
        "#### How it works\n",
        "1. It focuses on the structure rather than content\n",
        "2. It assigns Role to LLM to narrow down its action based on the given role.\n",
        "3. It set structures for Input and Ouput rather than freeform generation\n",
        "4. This structural enforcement improves the quality by capturing the only needed information."
      ],
      "metadata": {
        "id": "-k3n2uH-4aGp"
      }
    },
    {
      "cell_type": "code",
      "execution_count": null,
      "metadata": {
        "id": "00d6a430"
      },
      "outputs": [],
      "source": [
        "# Real-world example: Summarize product reviews using Meta Prompting.\n",
        "def test_meta_prompting(review):\n",
        "    meta_prompt = f\"\"\"\n",
        "You are an expert in summarizing product reviews. Your goal is to provide a concise and informative summary of the given review, focusing only on the key positive and negative aspects mentioned.\n",
        "\n",
        "Here is the product review:\n",
        "Review: {review}\n",
        "\n",
        "Provide the summary in the following format:\n",
        "Emotion: [Your emotion about the review]\n",
        "Summary: [Your concise summary here]\n",
        "Recommendation: [Your recommendation for the product]\n",
        "\"\"\"\n",
        "    response = generate_response(meta_prompt)\n",
        "    print(f\"Meta Prompting Response\")\n",
        "    print(response)\n",
        "    print(\"-\" * 50)\n",
        "\n",
        "# Test with all three review types\n",
        "test_meta_prompting(REVIEWS_TEXT)"
      ]
    }
  ],
  "metadata": {
    "colab": {
      "provenance": [],
      "collapsed_sections": [
        "7d706558"
      ],
      "include_colab_link": true
    },
    "kernelspec": {
      "display_name": ".venv",
      "language": "python",
      "name": "python3"
    },
    "language_info": {
      "name": "python",
      "version": "3.13.7"
    }
  },
  "nbformat": 4,
  "nbformat_minor": 0
}